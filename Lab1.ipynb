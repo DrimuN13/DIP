{
 "cells": [
  {
   "cell_type": "markdown",
   "metadata": {},
   "source": [
    "# Початок роботи з бібліотекою OpenCV"
   ]
  },
  {
   "cell_type": "markdown",
   "metadata": {},
   "source": [
    "У даній лабораторній роботі розглянуто наступний функціонал бібліотеки OpenCV:\n",
    "1. Зчитування, запис та відображення зображень.\n",
    "2. Визначення параметрів зображення - розмір, канали, колір.\n",
    "3. Доступ до окремих пікселів та робота з групою пікселів."
   ]
  },
  {
   "cell_type": "markdown",
   "metadata": {},
   "source": [
    "## Імпорт бібліотек та пакетів"
   ]
  },
  {
   "cell_type": "markdown",
   "metadata": {},
   "source": [
    "Завантажуємо бібліотеку OpenCV."
   ]
  },
  {
   "cell_type": "code",
   "execution_count": 26,
   "metadata": {},
   "outputs": [],
   "source": [
    "import cv2"
   ]
  },
  {
   "cell_type": "markdown",
   "metadata": {},
   "source": [
    "OpenCV завантажує зображення у вигляді багатомірних масивів та матриць.\n",
    "Для операції з багатомірними масивами і матрицями імпортуємо бібліотеку NumPy."
   ]
  },
  {
   "cell_type": "code",
   "execution_count": 27,
   "metadata": {},
   "outputs": [],
   "source": [
    "import numpy as np"
   ]
  },
  {
   "cell_type": "markdown",
   "metadata": {},
   "source": [
    "Імпортуємо функцію pyplot з бібліотеки Matplotlib для відображення зображень."
   ]
  },
  {
   "cell_type": "code",
   "execution_count": 28,
   "metadata": {},
   "outputs": [],
   "source": [
    "import matplotlib.pyplot as plt"
   ]
  },
  {
   "cell_type": "markdown",
   "metadata": {},
   "source": [
    "## Зчитування зображень\n",
    "\n",
    "Для зчитування зображення з диску використовується функція **imread**. Дана функція завантажує зображення із зазначеного файла та повертає масив даних. У випадку коли файл із зображенням відсутній функція повертає **None**. Функція **imread** підтримує більшість відомих форматів зображень (PNG, BMP, JPG).\n",
    "\n",
    "### Синтаксис функції\n",
    "    retval = cv2.imread(filename [, flags])<br><br>\n",
    "Параметри:\n",
    "* **filename** - відносний або абсолютний шлях до файла із зображенням. Обовязковий параметр.<br>\n",
    "* **flags** - даний параметр визначає формат зчитування зображення:<br>\n",
    "    * cv2.IMREAD_COLOR - зчитування кольорового зображення;\n",
    "    * cv2.IMREAD_GRAYSCALE - зчитування зображення у відтінках сірого;\n",
    "    * cv2.IMREAD_UNCHANGED - зчитування зображення без змін при наявності альфа-каналу.\n"
   ]
  },
  {
   "cell_type": "code",
   "execution_count": 38,
   "metadata": {},
   "outputs": [],
   "source": [
    "img_bw = cv2.imread(\"./examples/1_8.png\", cv2.IMREAD_GRAYSCALE)"
   ]
  },
  {
   "cell_type": "markdown",
   "metadata": {},
   "source": [
    "Надрукуємо масив **img**."
   ]
  },
  {
   "cell_type": "code",
   "execution_count": 39,
   "metadata": {},
   "outputs": [
    {
     "name": "stdout",
     "output_type": "stream",
     "text": [
      "[[  0   0   0   0   0   0   0   0   0   0   0   0   0   0   0   0]\n",
      " [  0   0   0   0   0   0   0  13  13   0   0   0   0   0   0   0]\n",
      " [  0   0   0   0   0 128 244 255 255 244 131   0   0   0   0   0]\n",
      " [  0   0   0   0  86 255 170  36  35 173 255  85   0   0   0   0]\n",
      " [  0   0   0   3 143 255   0   0   0   0 255 130   0   0   0   0]\n",
      " [  0   0   0   0 122 255   0   0   0   0 255 120   0   0   0   0]\n",
      " [  0   0   0   0  38 223 183  44  45 182 223  39   0   0   0   0]\n",
      " [  0   0   0   0   0  82 255 235 234 253  79   0   0   0   0   0]\n",
      " [  0   0   0   0  91 255  99  34  33  94 255  89   0   0   0   0]\n",
      " [  0   0   0  15 214 168   0   0   0   0 166 208  14   0   0   0]\n",
      " [  0   0   0  18 235 140   0   0   0   0 138 230  18   0   0   0]\n",
      " [  0   0   0   7 170 244  52   0   0  49 245 163   6   0   0   0]\n",
      " [  0   0   0   0  41 232 247 211 211 245 235  44   0   0   0   0]\n",
      " [  0   0   0   0   0  11  66 136 135  67  11   0   0   0   0   0]\n",
      " [  0   0   0   0   0   0   0   0   0   0   0   0   0   0   0   0]\n",
      " [  0   0   0   0   0   0   0   0   0   0   0   0   0   0   0   0]]\n"
     ]
    }
   ],
   "source": [
    "print(img_bw)"
   ]
  },
  {
   "cell_type": "markdown",
   "metadata": {},
   "source": [
    "Зображення завантажене у сірих відтінках представлене двухмірним масивом. Кожний елемент масиву - це значення інтенсивності окрмеого піксела. **0** - мінімальне значення інтенсивності, **255** - максимальне значення інтенсивності."
   ]
  },
  {
   "cell_type": "markdown",
   "metadata": {},
   "source": [
    "<h2>Відображення зображень</h2>"
   ]
  },
  {
   "cell_type": "markdown",
   "metadata": {},
   "source": [
    "### OpenCV\n",
    "Для відображення зображень за допомогою OpenCV використовується функція **imshow**. Данна функція використовується для відображення зображень при запуску сценаріїв Python у командній консолі.\n",
    "\n",
    "### Синтаксис функції\n",
    "    cv2.imshow(winname, mat)\n",
    "Параметри:<br>\n",
    "* **winname** - назва вікна.<br><br>\n",
    "* **mat** - зображення.<br>\n",
    "\n",
    "Приклад використання функції **imshow** при запуску сценарія Python у командній консолі:\n",
    "\n",
    "Відображення зображення в окремому вікні<br>\n",
    "<code>cv2.imshow(\"Image\", img)</code><br>\n",
    "Зачекати допоки користувач натисне кнопку для виходу з режиму відображення<br>\n",
    "<code>cv2.waitKey(0)</code><br>\n",
    "Знищення вікна<br>\n",
    "<code>cv2.destroyAllWindows()</code>\n"
   ]
  },
  {
   "cell_type": "markdown",
   "metadata": {},
   "source": [
    "### Matplotlib\n",
    "Для відображення зображень за допомогою Matplotlib використовується функція **plt.imshow**. Данна функція використовуєтсья для відображення зображень у робочому середовищі Jupyter Notebook.\n",
    "\n",
    "### Синтаксис функції\n",
    "    plt.imshow(mat, cmap=None)\n",
    "Параметри:<br>\n",
    "* **mat** - зображення.\n",
    "* **cmap** - тип колірної моделі Matplotlib.\n",
    "\n",
    "Приклад використання функції **plt.imshow**:"
   ]
  },
  {
   "cell_type": "code",
   "execution_count": 40,
   "metadata": {},
   "outputs": [
    {
     "data": {
      "image/png": "[encoded data removed]",
      "text/plain": [
       "<Figure size 360x360 with 1 Axes>"
      ]
     },
     "metadata": {},
     "output_type": "display_data"
    }
   ],
   "source": [
    "# Створити робоче вікно із заданим розміром\n",
    "plt.figure(figsize=(5, 5))\n",
    "\n",
    "# Відобразити зображення\n",
    "plt.imshow(img_bw, cmap='gray')\n",
    "\n",
    "# Показати робоче вікно\n",
    "plt.show();"
   ]
  },
  {
   "cell_type": "markdown",
   "metadata": {},
   "source": [
    "## Зчитування та відображення кольрового зображення"
   ]
  },
  {
   "cell_type": "markdown",
   "metadata": {},
   "source": [
    "Завантаження кольрового зображення."
   ]
  },
  {
   "cell_type": "code",
   "execution_count": 41,
   "metadata": {},
   "outputs": [],
   "source": [
    "img = cv2.imread(\"./examples/rgb.png\")"
   ]
  },
  {
   "cell_type": "markdown",
   "metadata": {},
   "source": [
    "За замовчуванням OpenCV завантажує кольорові зображення у форматі **BGR**. Проте функція пакету **plt.imshow** очікує зображення у форматі **RGB**. Для корректного відображення формат завантаженого зображення необхдіно перетворити з BGR в RGB. Для цього використовують функцію OpenCV **cvtColor**.\n",
    "\n",
    "### Синтаксис функції\n",
    "    dst = cv2.cvtColor(src, code [, dst[, dstCn]])\n",
    "Параметри:\n",
    "\n",
    "* **src** - вхідне зображення.\n",
    "* **code** - код перетворення колірних моделей.\n",
    "\n",
    "Приклад використання функції **cv2.cvtColor**:"
   ]
  },
  {
   "cell_type": "code",
   "execution_count": 42,
   "metadata": {},
   "outputs": [
    {
     "data": {
      "image/png": "[encoded data removed]",
      "text/plain": [
       "<Figure size 720x720 with 1 Axes>"
      ]
     },
     "metadata": {},
     "output_type": "display_data"
    }
   ],
   "source": [
    "img_rgb = cv2.cvtColor(img, cv2.COLOR_BGR2RGB)\n",
    "plt.figure(figsize=(10, 10))\n",
    "plt.imshow(img_rgb)\n",
    "plt.show();"
   ]
  },
  {
   "cell_type": "markdown",
   "metadata": {},
   "source": [
    "Для спрощення попередній код можна переписати:"
   ]
  },
  {
   "cell_type": "code",
   "execution_count": 43,
   "metadata": {},
   "outputs": [
    {
     "data": {
      "image/png": "[encoded data removed]",
      "text/plain": [
       "<Figure size 720x720 with 1 Axes>"
      ]
     },
     "metadata": {},
     "output_type": "display_data"
    }
   ],
   "source": [
    "plt.figure(figsize=(10, 10))\n",
    "plt.imshow(cv2.cvtColor(img, cv2.COLOR_BGR2RGB))\n",
    "plt.show();"
   ]
  },
  {
   "cell_type": "markdown",
   "metadata": {},
   "source": [
    "## Збереження зображень\n",
    "Для збереження зображень за допомогою OpenCV використовується функція **imwrite**. Дана функція дозволяє задати імя вихідного файла в яке буде збережене вказане зображення.\n",
    "\n",
    "### Синтаксис функції\n",
    "    retval = cv2.imwrite(filename, img[, params])\n",
    "Параметри:\n",
    "\n",
    "* **filename** - імя вихідного файла.\n",
    "* **img** - вхідне зображення."
   ]
  },
  {
   "cell_type": "code",
   "execution_count": 44,
   "metadata": {},
   "outputs": [
    {
     "data": {
      "text/plain": [
       "True"
      ]
     },
     "execution_count": 44,
     "metadata": {},
     "output_type": "execute_result"
    }
   ],
   "source": [
    "cv2.imwrite(\"./examples/rgb_write.png\", img)"
   ]
  },
  {
   "cell_type": "markdown",
   "metadata": {},
   "source": [
    "## Параметри зображень\n",
    "Основними параметрами зображення при використанні OpenCV є розмір зображення та кількість каналів, тип данних та тип обєкут якими представлено зображення.\n",
    "Визначимо розміри чорно-білого зображення:"
   ]
  },
  {
   "cell_type": "code",
   "execution_count": 46,
   "metadata": {},
   "outputs": [
    {
     "data": {
      "text/plain": [
       "(16, 16)"
      ]
     },
     "execution_count": 46,
     "metadata": {},
     "output_type": "execute_result"
    }
   ],
   "source": [
    "img_bw.shape"
   ]
  },
  {
   "cell_type": "markdown",
   "metadata": {},
   "source": [
    "Дане чорно-біле зображення має наступні параметри:\n",
    "* висота - 16 пікселів\n",
    "* ширина - 16 пікселів\n",
    "\n",
    "Визначимо розміри кольрового зображення:"
   ]
  },
  {
   "cell_type": "code",
   "execution_count": 72,
   "metadata": {},
   "outputs": [
    {
     "data": {
      "text/plain": [
       "(524, 512, 3)"
      ]
     },
     "execution_count": 72,
     "metadata": {},
     "output_type": "execute_result"
    }
   ],
   "source": [
    "img.shape"
   ]
  },
  {
   "cell_type": "markdown",
   "metadata": {},
   "source": [
    "Дане кольорове зображення має наступні параметри:\n",
    "* висота - 524 пікселів\n",
    "* ширина - 512 піксіелв\n",
    "* кількість каналів - 3"
   ]
  },
  {
   "cell_type": "markdown",
   "metadata": {},
   "source": [
    "Визначимо яким типом данних представлені значення інтенсивності окремих пікселів чорно-білого та кольорового зображення:"
   ]
  },
  {
   "cell_type": "code",
   "execution_count": 73,
   "metadata": {},
   "outputs": [
    {
     "name": "stdout",
     "output_type": "stream",
     "text": [
      "Type = uint8\n",
      "Type = uint8\n"
     ]
    }
   ],
   "source": [
    "print(\"Type = %s\"%(img_bw.dtype))\n",
    "print(\"Type = %s\"%(img.dtype))"
   ]
  },
  {
   "cell_type": "markdown",
   "metadata": {},
   "source": [
    "Визначимо яким типом данних представлено чорно-біле та кольорове зображення:"
   ]
  },
  {
   "cell_type": "code",
   "execution_count": 75,
   "metadata": {},
   "outputs": [
    {
     "name": "stdout",
     "output_type": "stream",
     "text": [
      "Type = <type 'numpy.ndarray'>\n",
      "Type = <type 'numpy.ndarray'>\n"
     ]
    }
   ],
   "source": [
    "print(\"Type = %s\"%type(img_bw))\n",
    "print(\"Type = %s\"%type(img))"
   ]
  },
  {
   "cell_type": "markdown",
   "metadata": {},
   "source": [
    "## Доступ до окремих та груп пікселів."
   ]
  },
  {
   "cell_type": "markdown",
   "metadata": {},
   "source": [
    "### Доступ до окремих колірних каналів кольрового зображення"
   ]
  },
  {
   "cell_type": "markdown",
   "metadata": {},
   "source": [
    "Щоб щоб отримати доступ до окремого колірного каналу зображення можна використати відповідний матричний індекс.\n",
    "\n",
    "Приклад доступу до колірного каналу за допомогою індекса:"
   ]
  },
  {
   "cell_type": "code",
   "execution_count": 57,
   "metadata": {},
   "outputs": [
    {
     "data": {
      "image/png": "[encoded data removed]",
      "text/plain": [
       "<Figure size 720x720 with 3 Axes>"
      ]
     },
     "metadata": {},
     "output_type": "display_data"
    }
   ],
   "source": [
    "plt.figure(figsize=(10, 10))\n",
    "\n",
    "plt.subplot(131);\n",
    "R = np.zeros(img_rgb.shape, dtype='uint8')\n",
    "R[:, :, 0] = img_rgb[:, :, 0]\n",
    "plt.imshow(R)\n",
    "\n",
    "plt.subplot(132);\n",
    "G = np.zeros(img_rgb.shape, dtype='uint8')\n",
    "G[:, :, 1] = img_rgb[:, :, 1]\n",
    "plt.imshow(G)\n",
    "\n",
    "plt.subplot(133);\n",
    "B = np.zeros(img_rgb.shape, dtype='uint8')\n",
    "B[:, :, 2] = img_rgb[:, :, 2]\n",
    "plt.imshow(B)\n",
    "\n",
    "plt.show()"
   ]
  },
  {
   "cell_type": "markdown",
   "metadata": {},
   "source": [
    "Також отримати доступ до окремих каналів можна за допомогою функції **split**. Дана функція розбиває зображення, як представлене багатомірним масивом на окремі масивів, які містять значення інтенсивності відповідних каналів.\n",
    "\n",
    "### Синтаксис функції\n",
    "    dst = cv2.split(img)\n",
    "Параметри:\n",
    "\n",
    "* **img** - вхідне зображення."
   ]
  },
  {
   "cell_type": "code",
   "execution_count": 62,
   "metadata": {},
   "outputs": [
    {
     "data": {
      "image/png": "[encoded data removed]",
      "text/plain": [
       "<Figure size 720x720 with 3 Axes>"
      ]
     },
     "metadata": {},
     "output_type": "display_data"
    }
   ],
   "source": [
    "plt.figure(figsize=(10, 10))\n",
    "\n",
    "b, g, r = cv2.split(img)\n",
    "plt.subplot(131);\n",
    "R = np.zeros(img_rgb.shape, dtype='uint8')\n",
    "R[:, :, 0] = r\n",
    "plt.imshow(R)\n",
    "\n",
    "plt.subplot(132);\n",
    "G = np.zeros(img_rgb.shape, dtype='uint8')\n",
    "G[:, :, 1] = g\n",
    "plt.imshow(G)\n",
    "\n",
    "plt.subplot(133);\n",
    "B = np.zeros(img_rgb.shape, dtype='uint8')\n",
    "B[:, :, 2] = b\n",
    "plt.imshow(B)\n",
    "\n",
    "plt.show()"
   ]
  },
  {
   "cell_type": "markdown",
   "metadata": {},
   "source": [
    "<h1>Access single image pixel</h1>"
   ]
  },
  {
   "cell_type": "code",
   "execution_count": 8,
   "metadata": {},
   "outputs": [
    {
     "data": {
      "text/plain": [
       "array([  0,   0, 255], dtype=uint8)"
      ]
     },
     "execution_count": 8,
     "metadata": {},
     "output_type": "execute_result"
    }
   ],
   "source": [
    "img[127, 127]"
   ]
  },
  {
   "cell_type": "markdown",
   "metadata": {},
   "source": [
    "<h1>Get image parameters</h1>"
   ]
  },
  {
   "cell_type": "code",
   "execution_count": 9,
   "metadata": {},
   "outputs": [
    {
     "data": {
      "text/plain": [
       "(524, 512, 3)"
      ]
     },
     "execution_count": 9,
     "metadata": {},
     "output_type": "execute_result"
    }
   ],
   "source": [
    "img_rgb.shape"
   ]
  },
  {
   "cell_type": "raw",
   "metadata": {},
   "source": [
    "Here is 1104 is image height, 1060 is image width, 3 is number of color channels.\n",
    "Every color channel can be ploted separately."
   ]
  },
  {
   "cell_type": "code",
   "execution_count": 10,
   "metadata": {},
   "outputs": [
    {
     "data": {
      "image/png": "[encoded data removed]",
      "text/plain": [
       "<Figure size 720x720 with 3 Axes>"
      ]
     },
     "metadata": {},
     "output_type": "display_data"
    }
   ],
   "source": [
    "plt.figure(figsize=(10, 10))\n",
    "plt.subplot(131);\n",
    "R = np.zeros(img_rgb.shape, dtype='uint8')\n",
    "R[:, :, 0] = img_rgb[:, :, 0]\n",
    "plt.imshow(R)\n",
    "\n",
    "plt.subplot(132);\n",
    "G = np.zeros(img_rgb.shape, dtype='uint8')\n",
    "G[:, :, 1] = img_rgb[:, :, 1]\n",
    "plt.imshow(G)\n",
    "\n",
    "plt.subplot(133);\n",
    "B = np.zeros(img_rgb.shape, dtype='uint8')\n",
    "B[:, :, 2] = img_rgb[:, :, 2]\n",
    "plt.imshow(B)\n",
    "\n",
    "plt.show()"
   ]
  },
  {
   "cell_type": "code",
   "execution_count": 66,
   "metadata": {},
   "outputs": [
    {
     "data": {
      "image/png": "[encoded data removed]",
      "text/plain": [
       "<Figure size 720x720 with 1 Axes>"
      ]
     },
     "metadata": {},
     "output_type": "display_data"
    }
   ],
   "source": [
    "img_copy = img.copy()\n",
    "img_copy[:, :, 0] = 0\n",
    "\n",
    "plt.figure(figsize=(10, 10))\n",
    "plt.imshow(cv2.cvtColor(img_copy, cv2.COLOR_BGR2RGB))\n",
    "plt.show();"
   ]
  },
  {
   "cell_type": "markdown",
   "metadata": {},
   "source": [
    "<h1>Crop image with region with red segment</h1>"
   ]
  },
  {
   "cell_type": "code",
   "execution_count": 43,
   "metadata": {},
   "outputs": [
    {
     "data": {
      "text/plain": [
       "(150, 150, 3)"
      ]
     },
     "execution_count": 43,
     "metadata": {},
     "output_type": "execute_result"
    }
   ],
   "source": [
    "img_crop = img_rgb[0:150, 0:150]\n",
    "img_crop.shape"
   ]
  },
  {
   "cell_type": "code",
   "execution_count": 44,
   "metadata": {
    "scrolled": true
   },
   "outputs": [
    {
     "data": {
      "image/png": "[encoded data removed]",
      "text/plain": [
       "<Figure size 432x288 with 1 Axes>"
      ]
     },
     "metadata": {},
     "output_type": "display_data"
    }
   ],
   "source": [
    "plt.imshow(img_crop); plt.show();"
   ]
  },
  {
   "cell_type": "markdown",
   "metadata": {},
   "source": [
    "<h1>Saving image to file</h1>"
   ]
  },
  {
   "cell_type": "code",
   "execution_count": 45,
   "metadata": {},
   "outputs": [
    {
     "data": {
      "text/plain": [
       "True"
      ]
     },
     "execution_count": 45,
     "metadata": {},
     "output_type": "execute_result"
    }
   ],
   "source": [
    "cv2.imwrite(\"red_segment.png\", img_crop)"
   ]
  },
  {
   "cell_type": "markdown",
   "metadata": {},
   "source": [
    "<h1> Assignments </h1>"
   ]
  },
  {
   "cell_type": "markdown",
   "metadata": {},
   "source": [
    "1. Read image file from assignment directory.\n",
    "2. Plot image.\n",
    "3. Convert image to different color spaces (HSV, LAB, HLS).\n",
    "4. Plot sepeately color channels from selected color space.\n",
    "5. Estimate color for different figures.\n",
    "\n",
    "6. Convert image to different color spaces (HSV, LAB, HLS) using formulas.\n",
    "7. Color estimation (Delta E76, Delta E94)\n"
   ]
  },
  {
   "cell_type": "code",
   "execution_count": 13,
   "metadata": {},
   "outputs": [],
   "source": [
    "img = cv2.imread(\"...\")"
   ]
  }
 ],
 "metadata": {
  "kernelspec": {
   "display_name": "Python 2",
   "language": "python",
   "name": "python2"
  },
  "language_info": {
   "codemirror_mode": {
    "name": "ipython",
    "version": 2
   },
   "file_extension": ".py",
   "mimetype": "text/x-python",
   "name": "python",
   "nbconvert_exporter": "python",
   "pygments_lexer": "ipython2",
   "version": "2.7.12"
  }
 },
 "nbformat": 4,
 "nbformat_minor": 2
}
