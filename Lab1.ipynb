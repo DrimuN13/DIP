{
 "cells": [
  {
   "cell_type": "markdown",
   "metadata": {},
   "source": [
    "# Початок роботи з бібліотекою OpenCV"
   ]
  },
  {
   "cell_type": "markdown",
   "metadata": {},
   "source": [
    "У даній лабораторній роботі розглянуто наступний функціонал бібліотеки OpenCV:\n",
    "1. Зчитування, запис та відображення зображень.\n",
    "2. Визначення параметрів зображення - розмір, канали, колір.\n",
    "3. Доступ до окремих пікселів та робота з групою пікселів."
   ]
  },
  {
   "cell_type": "markdown",
   "metadata": {},
   "source": [
    "## Імпорт бібліотек та пакетів"
   ]
  },
  {
   "cell_type": "markdown",
   "metadata": {},
   "source": [
    "Завантажуємо бібліотеку OpenCV."
   ]
  },
  {
   "cell_type": "code",
   "execution_count": 1,
   "metadata": {},
   "outputs": [],
   "source": [
    "import cv2"
   ]
  },
  {
   "cell_type": "markdown",
   "metadata": {},
   "source": [
    "OpenCV завантажує зображення у вигляді багатомірних масивів та матриць.\n",
    "Для операції з багатомірними масивами і матрицями імпортуємо бібліотеку NumPy."
   ]
  },
  {
   "cell_type": "code",
   "execution_count": 2,
   "metadata": {},
   "outputs": [],
   "source": [
    "import numpy as np"
   ]
  },
  {
   "cell_type": "markdown",
   "metadata": {},
   "source": [
    "Імпортуємо функцію pyplot з бібліотеки Matplotlib для відображення зображень."
   ]
  },
  {
   "cell_type": "code",
   "execution_count": 3,
   "metadata": {},
   "outputs": [],
   "source": [
    "import matplotlib.pyplot as plt"
   ]
  },
  {
   "cell_type": "markdown",
   "metadata": {},
   "source": [
    "## Зчитування зображень\n",
    "\n",
    "Для зчитування зображення з диску використовується функція **imread**. Дана функція завантажує зображення із зазначеного файла та повертає масив даних. У випадку коли файл із зображенням відсутній функція повертає **None**. Функція **imread** підтримує більшість відомих форматів зображень (PNG, BMP, JPG).\n",
    "\n",
    "### Синтаксис функції\n",
    "    retval = cv2.imread(filename [, flags])<br><br>\n",
    "Параметри:\n",
    "* **filename** - відносний або абсолютний шлях до файла із зображенням. Обовязковий параметр.<br>\n",
    "* **flags** - даний параметр визначає формат зчитування зображення:<br>\n",
    "    * cv2.IMREAD_COLOR - зчитування кольорового зображення;\n",
    "    * cv2.IMREAD_GRAYSCALE - зчитування зображення у відтінках сірого;\n",
    "    * cv2.IMREAD_UNCHANGED - зчитування зображення без змін при наявності альфа-каналу.\n"
   ]
  },
  {
   "cell_type": "code",
   "execution_count": 4,
   "metadata": {},
   "outputs": [],
   "source": [
    "img_bw = cv2.imread(\"./examples/1_8.png\", cv2.IMREAD_GRAYSCALE)"
   ]
  },
  {
   "cell_type": "markdown",
   "metadata": {},
   "source": [
    "Надрукуємо масив **img**."
   ]
  },
  {
   "cell_type": "code",
   "execution_count": 5,
   "metadata": {},
   "outputs": [
    {
     "name": "stdout",
     "output_type": "stream",
     "text": [
      "[[  0   0   0   0   0   0   0   0   0   0   0   0   0   0   0   0]\n",
      " [  0   0   0   0   0   0   0  13  13   0   0   0   0   0   0   0]\n",
      " [  0   0   0   0   0 128 244 255 255 244 131   0   0   0   0   0]\n",
      " [  0   0   0   0  86 255 170  36  35 173 255  85   0   0   0   0]\n",
      " [  0   0   0   3 143 255   0   0   0   0 255 130   0   0   0   0]\n",
      " [  0   0   0   0 122 255   0   0   0   0 255 120   0   0   0   0]\n",
      " [  0   0   0   0  38 223 183  44  45 182 223  39   0   0   0   0]\n",
      " [  0   0   0   0   0  82 255 235 234 253  79   0   0   0   0   0]\n",
      " [  0   0   0   0  91 255  99  34  33  94 255  89   0   0   0   0]\n",
      " [  0   0   0  15 214 168   0   0   0   0 166 208  14   0   0   0]\n",
      " [  0   0   0  18 235 140   0   0   0   0 138 230  18   0   0   0]\n",
      " [  0   0   0   7 170 244  52   0   0  49 245 163   6   0   0   0]\n",
      " [  0   0   0   0  41 232 247 211 211 245 235  44   0   0   0   0]\n",
      " [  0   0   0   0   0  11  66 136 135  67  11   0   0   0   0   0]\n",
      " [  0   0   0   0   0   0   0   0   0   0   0   0   0   0   0   0]\n",
      " [  0   0   0   0   0   0   0   0   0   0   0   0   0   0   0   0]]\n"
     ]
    }
   ],
   "source": [
    "print(img_bw)"
   ]
  },
  {
   "cell_type": "markdown",
   "metadata": {},
   "source": [
    "Зображення завантажене у сірих відтінках представлене двухмірним масивом. Кожний елемент масиву - це значення інтенсивності окрмеого піксела. **0** - мінімальне значення інтенсивності, **255** - максимальне значення інтенсивності."
   ]
  },
  {
   "cell_type": "markdown",
   "metadata": {},
   "source": [
    "<h2>Відображення зображень</h2>"
   ]
  },
  {
   "cell_type": "markdown",
   "metadata": {},
   "source": [
    "### OpenCV\n",
    "Для відображення зображень за допомогою OpenCV використовується функція **imshow**. Данна функція використовується для відображення зображень при запуску сценаріїв Python у командній консолі.\n",
    "\n",
    "### Синтаксис функції\n",
    "    cv2.imshow(winname, mat)\n",
    "Параметри:<br>\n",
    "* **winname** - назва вікна.<br><br>\n",
    "* **mat** - зображення.<br>\n",
    "\n",
    "Приклад використання функції **imshow** при запуску сценарія Python у командній консолі:\n",
    "\n",
    "Відображення зображення в окремому вікні<br>\n",
    "<code>cv2.imshow(\"Image\", img)</code><br>\n",
    "Зачекати допоки користувач натисне кнопку для виходу з режиму відображення<br>\n",
    "<code>cv2.waitKey(0)</code><br>\n",
    "Знищення вікна<br>\n",
    "<code>cv2.destroyAllWindows()</code>\n"
   ]
  },
  {
   "cell_type": "markdown",
   "metadata": {},
   "source": [
    "### Matplotlib\n",
    "Для відображення зображень за допомогою Matplotlib використовується функція **plt.imshow**. Данна функція використовуєтсья для відображення зображень у робочому середовищі Jupyter Notebook.\n",
    "\n",
    "### Синтаксис функції\n",
    "    plt.imshow(mat, cmap=None)\n",
    "Параметри:<br>\n",
    "* **mat** - зображення.\n",
    "* **cmap** - тип колірної моделі Matplotlib.\n",
    "\n",
    "Приклад використання функції **plt.imshow**:"
   ]
  },
  {
   "cell_type": "code",
   "execution_count": 6,
   "metadata": {},
   "outputs": [
    {
     "data": {
      "image/png": "[encoded data removed]",
      "text/plain": [
       "<Figure size 360x360 with 1 Axes>"
      ]
     },
     "metadata": {
      "needs_background": "light"
     },
     "output_type": "display_data"
    }
   ],
   "source": [
    "# Створити робоче вікно із заданим розміром\n",
    "plt.figure(figsize=(5, 5))\n",
    "\n",
    "# Відобразити зображення\n",
    "plt.imshow(img_bw, cmap='gray')\n",
    "\n",
    "# Показати робоче вікно\n",
    "plt.show();"
   ]
  },
  {
   "cell_type": "markdown",
   "metadata": {},
   "source": [
    "## Зчитування та відображення кольрового зображення"
   ]
  },
  {
   "cell_type": "markdown",
   "metadata": {},
   "source": [
    "Завантаження кольрового зображення."
   ]
  },
  {
   "cell_type": "code",
   "execution_count": 7,
   "metadata": {},
   "outputs": [],
   "source": [
    "img = cv2.imread(\"./examples/rgb.png\")"
   ]
  },
  {
   "cell_type": "markdown",
   "metadata": {},
   "source": [
    "За замовчуванням OpenCV завантажує кольорові зображення у форматі **BGR**. Проте функція пакету **plt.imshow** очікує зображення у форматі **RGB**. Для корректного відображення формат завантаженого зображення необхдіно перетворити з BGR в RGB. Для цього використовують функцію OpenCV **cvtColor**.\n",
    "\n",
    "### Синтаксис функції\n",
    "    dst = cv2.cvtColor(src, code [, dst[, dstCn]])\n",
    "Параметри:\n",
    "\n",
    "* **src** - вхідне зображення.\n",
    "* **code** - код перетворення колірних моделей.\n",
    "\n",
    "Приклад використання функції **cv2.cvtColor**:"
   ]
  },
  {
   "cell_type": "code",
   "execution_count": 8,
   "metadata": {},
   "outputs": [
    {
     "data": {
      "image/png": "[encoded data removed]",
      "text/plain": [
       "<Figure size 720x720 with 1 Axes>"
      ]
     },
     "metadata": {
      "needs_background": "light"
     },
     "output_type": "display_data"
    }
   ],
   "source": [
    "img_rgb = cv2.cvtColor(img, cv2.COLOR_BGR2RGB)\n",
    "plt.figure(figsize=(10, 10))\n",
    "plt.imshow(img_rgb)\n",
    "plt.show();"
   ]
  },
  {
   "cell_type": "markdown",
   "metadata": {},
   "source": [
    "Для спрощення попередній код можна переписати наступним чином:"
   ]
  },
  {
   "cell_type": "code",
   "execution_count": 9,
   "metadata": {},
   "outputs": [
    {
     "data": {
      "image/png": "[encoded data removed]",
      "text/plain": [
       "<Figure size 720x720 with 1 Axes>"
      ]
     },
     "metadata": {
      "needs_background": "light"
     },
     "output_type": "display_data"
    }
   ],
   "source": [
    "plt.figure(figsize=(10, 10))\n",
    "plt.imshow(cv2.cvtColor(img, cv2.COLOR_BGR2RGB))\n",
    "plt.show();"
   ]
  },
  {
   "cell_type": "markdown",
   "metadata": {},
   "source": [
    "## Параметри зображень\n",
    "Основними параметрами зображення при використанні OpenCV є розмір зображення та кількість каналів, тип данних та тип обєкут якими представлено зображення.\n",
    "Визначимо розміри чорно-білого зображення:"
   ]
  },
  {
   "cell_type": "code",
   "execution_count": 10,
   "metadata": {},
   "outputs": [
    {
     "data": {
      "text/plain": [
       "(16, 16)"
      ]
     },
     "execution_count": 10,
     "metadata": {},
     "output_type": "execute_result"
    }
   ],
   "source": [
    "img_bw.shape"
   ]
  },
  {
   "cell_type": "markdown",
   "metadata": {},
   "source": [
    "Дане чорно-біле зображення має наступні параметри:\n",
    "* висота - 16 пікселів\n",
    "* ширина - 16 пікселів\n",
    "\n",
    "Визначимо розміри кольрового зображення:"
   ]
  },
  {
   "cell_type": "code",
   "execution_count": 11,
   "metadata": {},
   "outputs": [
    {
     "data": {
      "text/plain": [
       "(524, 512, 3)"
      ]
     },
     "execution_count": 11,
     "metadata": {},
     "output_type": "execute_result"
    }
   ],
   "source": [
    "img.shape"
   ]
  },
  {
   "cell_type": "markdown",
   "metadata": {},
   "source": [
    "Дане кольорове зображення має наступні параметри:\n",
    "* висота - 524 пікселів\n",
    "* ширина - 512 піксіелв\n",
    "* кількість каналів - 3"
   ]
  },
  {
   "cell_type": "markdown",
   "metadata": {},
   "source": [
    "Визначимо яким типом данних представлені значення інтенсивності окремих пікселів чорно-білого та кольорового зображення:"
   ]
  },
  {
   "cell_type": "code",
   "execution_count": 12,
   "metadata": {},
   "outputs": [
    {
     "name": "stdout",
     "output_type": "stream",
     "text": [
      "Type = uint8\n",
      "Type = uint8\n"
     ]
    }
   ],
   "source": [
    "print(\"Type = %s\"%(img_bw.dtype))\n",
    "print(\"Type = %s\"%(img.dtype))"
   ]
  },
  {
   "cell_type": "markdown",
   "metadata": {},
   "source": [
    "Визначимо яким типом данних представлено чорно-біле та кольорове зображення:"
   ]
  },
  {
   "cell_type": "code",
   "execution_count": 13,
   "metadata": {},
   "outputs": [
    {
     "name": "stdout",
     "output_type": "stream",
     "text": [
      "Type = <class 'numpy.ndarray'>\n",
      "Type = <class 'numpy.ndarray'>\n"
     ]
    }
   ],
   "source": [
    "print(\"Type = %s\"%type(img_bw))\n",
    "print(\"Type = %s\"%type(img))"
   ]
  },
  {
   "cell_type": "markdown",
   "metadata": {},
   "source": [
    "## Доступ до окремих та груп пікселів.\n",
    "\n",
    "### Доступ до окремих та групи пікселів\n",
    "Для отримання доступу до значення інтенсивності окремого пікселя необхдіно використати відоповідні індекси. Наприклад, для чорно-білого зображення отримаємо значення інтенсивності пікселів з координатами (0, 0), (7, 7), (15, 15):"
   ]
  },
  {
   "cell_type": "code",
   "execution_count": 14,
   "metadata": {},
   "outputs": [
    {
     "name": "stdout",
     "output_type": "stream",
     "text": [
      "0\n",
      "235\n",
      "0\n"
     ]
    }
   ],
   "source": [
    "# (0,0)\n",
    "print(img_bw[0, 0])\n",
    "\n",
    "# (7, 7)\n",
    "print(img_bw[int(img_bw.shape[0] / 2 - 1), int(img_bw.shape[1] / 2 - 1)])\n",
    "\n",
    "# (15, 15)\n",
    "print(img_bw[int(img_bw.shape[0] - 1), int(img_bw.shape[1] - 1)])"
   ]
  },
  {
   "cell_type": "markdown",
   "metadata": {},
   "source": [
    "Для кольорового зображення отримаємо значення інтенсивності пікселів із координатами (0, 0), (261, 255), (523, 511):"
   ]
  },
  {
   "cell_type": "code",
   "execution_count": 15,
   "metadata": {},
   "outputs": [
    {
     "name": "stdout",
     "output_type": "stream",
     "text": [
      "[255 255 255]\n",
      "[255 255 255]\n",
      "[255 255 255]\n"
     ]
    }
   ],
   "source": [
    "# (0, 0)\n",
    "print(img_rgb[0, 0])\n",
    "\n",
    "# (261, 255)\n",
    "print(img[int(img_rgb.shape[0] / 2 - 1), int(img_rgb.shape[1] / 2 - 1)])\n",
    "\n",
    "# (523, 511)\n",
    "print(img_rgb[int(img_rgb.shape[0] - 1), int(img_rgb.shape[1] - 1)])"
   ]
  },
  {
   "cell_type": "markdown",
   "metadata": {},
   "source": [
    "Також, для кольорового зображення, отримаємо значення інтенсивності пікселів з відомими кольорами - червоний, зелений, синій:"
   ]
  },
  {
   "cell_type": "code",
   "execution_count": 16,
   "metadata": {},
   "outputs": [
    {
     "name": "stdout",
     "output_type": "stream",
     "text": [
      "[255   0   0]\n",
      "[  0 255   0]\n",
      "[  0   0 255]\n"
     ]
    }
   ],
   "source": [
    "# піксель з червоним кольором\n",
    "print(img_rgb[100,100])\n",
    "\n",
    "# піксель з зеленим кольором\n",
    "print(img_rgb[100, 400])\n",
    "\n",
    "# піксель з синім кольором\n",
    "print(img_rgb[400, 250])"
   ]
  },
  {
   "cell_type": "markdown",
   "metadata": {},
   "source": [
    "\n",
    "## Доступ до групи пікселів\n",
    "\n",
    "Для доступа до групи пікселів використовують пари матричних індексів для завдання необхдіних діапазонів:"
   ]
  },
  {
   "cell_type": "code",
   "execution_count": 17,
   "metadata": {},
   "outputs": [
    {
     "name": "stdout",
     "output_type": "stream",
     "text": [
      "[[  0 128 244 255 255 244 131   0]\n",
      " [ 86 255 170  36  35 173 255  85]\n",
      " [143 255   0   0   0   0 255 130]\n",
      " [122 255   0   0   0   0 255 120]\n",
      " [ 38 223 183  44  45 182 223  39]\n",
      " [  0  82 255 235 234 253  79   0]]\n"
     ]
    },
    {
     "data": {
      "image/png": "[encoded data removed]",
      "text/plain": [
       "<Figure size 432x288 with 1 Axes>"
      ]
     },
     "metadata": {
      "needs_background": "light"
     },
     "output_type": "display_data"
    }
   ],
   "source": [
    "img_crop_bw = img_bw[2:8, 4:12]\n",
    "print(img_crop_bw)\n",
    "plt.imshow(img_crop_bw, cmap='gray')\n",
    "plt.show()"
   ]
  },
  {
   "cell_type": "code",
   "execution_count": 18,
   "metadata": {},
   "outputs": [
    {
     "data": {
      "image/png": "[encoded data removed]",
      "text/plain": [
       "<Figure size 432x288 with 1 Axes>"
      ]
     },
     "metadata": {
      "needs_background": "light"
     },
     "output_type": "display_data"
    }
   ],
   "source": [
    "img_crop_rgb = img_rgb[130:330, 160:350]\n",
    "plt.imshow(img_crop_rgb)\n",
    "plt.show()"
   ]
  },
  {
   "cell_type": "markdown",
   "metadata": {},
   "source": [
    "### Доступ до окремих колірних каналів кольрового зображення"
   ]
  },
  {
   "cell_type": "markdown",
   "metadata": {},
   "source": [
    "Щоб отримати доступ до окремого колірного каналу зображення необхідно використати відповідний матричний індекс.\n",
    "\n",
    "Приклад доступу до окремих колірних каналів за допомогою індекса:"
   ]
  },
  {
   "cell_type": "code",
   "execution_count": 19,
   "metadata": {},
   "outputs": [
    {
     "data": {
      "image/png": "[encoded data removed]",
      "text/plain": [
       "<Figure size 720x720 with 3 Axes>"
      ]
     },
     "metadata": {
      "needs_background": "light"
     },
     "output_type": "display_data"
    }
   ],
   "source": [
    "plt.figure(figsize=(10, 10))\n",
    "\n",
    "plt.subplot(131);\n",
    "R = np.zeros(img_rgb.shape, dtype='uint8')\n",
    "R[:, :, 0] = img_rgb[:, :, 0]\n",
    "plt.imshow(R)\n",
    "\n",
    "plt.subplot(132);\n",
    "G = np.zeros(img_rgb.shape, dtype='uint8')\n",
    "G[:, :, 1] = img_rgb[:, :, 1]\n",
    "plt.imshow(G)\n",
    "\n",
    "plt.subplot(133);\n",
    "B = np.zeros(img_rgb.shape, dtype='uint8')\n",
    "B[:, :, 2] = img_rgb[:, :, 2]\n",
    "plt.imshow(B)\n",
    "\n",
    "plt.show()"
   ]
  },
  {
   "cell_type": "markdown",
   "metadata": {},
   "source": [
    "Після того як всі необхідні операції з окремими колірними каналами виконано, їх можна обєданти за допомогою функції **cv2.merge**. Ця функція обєдную декілька окремих матриць однакового розміру в один багатовимірний масив.\n",
    "\n",
    "### Синтаксис функції\n",
    "    dst = cv2.merge(mv[, dst])\n",
    "Параметри:\n",
    "\n",
    "* **mv** - вектор масивів, якими представлено колірні канали."
   ]
  },
  {
   "cell_type": "code",
   "execution_count": 20,
   "metadata": {},
   "outputs": [],
   "source": [
    "# встановимо всі значення інтенсивності синього каналу рівними 0\n",
    "B[:, :, 2] = 0"
   ]
  },
  {
   "cell_type": "code",
   "execution_count": 21,
   "metadata": {},
   "outputs": [
    {
     "data": {
      "image/png": "[encoded data removed]",
      "text/plain": [
       "<Figure size 432x288 with 1 Axes>"
      ]
     },
     "metadata": {
      "needs_background": "light"
     },
     "output_type": "display_data"
    }
   ],
   "source": [
    "img_merge = cv2.merge((R[:, :, 0], G[:, :, 1], B[:, :, 2]))\n",
    "\n",
    "plt.imshow(img_merge)\n",
    "plt.show()"
   ]
  },
  {
   "cell_type": "markdown",
   "metadata": {},
   "source": [
    "Також отримати доступ до окремих каналів можна за допомогою функції **split**. Дана функція розбиває зображення, як представлене багатомірним масивом на окремі масивів, які містять значення інтенсивності відповідних каналів.\n",
    "\n",
    "### Синтаксис функції\n",
    "    dst = cv2.split(img)\n",
    "Параметри:\n",
    "\n",
    "* **img** - вхідне зображення."
   ]
  },
  {
   "cell_type": "code",
   "execution_count": 22,
   "metadata": {},
   "outputs": [
    {
     "data": {
      "image/png": "[encoded data removed]",
      "text/plain": [
       "<Figure size 720x720 with 3 Axes>"
      ]
     },
     "metadata": {
      "needs_background": "light"
     },
     "output_type": "display_data"
    }
   ],
   "source": [
    "plt.figure(figsize=(10, 10))\n",
    "\n",
    "b, g, r = cv2.split(img)\n",
    "plt.subplot(131);\n",
    "R = np.zeros(img_rgb.shape, dtype='uint8')\n",
    "R[:, :, 0] = r\n",
    "plt.imshow(R)\n",
    "\n",
    "plt.subplot(132);\n",
    "G = np.zeros(img_rgb.shape, dtype='uint8')\n",
    "G[:, :, 1] = g\n",
    "plt.imshow(G)\n",
    "\n",
    "plt.subplot(133);\n",
    "B = np.zeros(img_rgb.shape, dtype='uint8')\n",
    "B[:, :, 2] = b\n",
    "plt.imshow(B)\n",
    "\n",
    "plt.show()"
   ]
  },
  {
   "cell_type": "markdown",
   "metadata": {},
   "source": [
    "## Збереження зображень\n",
    "Для збереження зображень за допомогою OpenCV використовується функція **imwrite**. Дана функція дозволяє задати імя вихідного файла в яке буде збережене вказане зображення.\n",
    "\n",
    "### Синтаксис функції\n",
    "    retval = cv2.imwrite(filename, img[, params])\n",
    "Параметри:\n",
    "\n",
    "* **filename** - імя вихідного файла.\n",
    "* **img** - вхідне зображення."
   ]
  },
  {
   "cell_type": "markdown",
   "metadata": {},
   "source": [
    "<h1>Saving image to file</h1>"
   ]
  },
  {
   "cell_type": "code",
   "execution_count": 23,
   "metadata": {},
   "outputs": [
    {
     "data": {
      "text/plain": [
       "True"
      ]
     },
     "execution_count": 23,
     "metadata": {},
     "output_type": "execute_result"
    }
   ],
   "source": [
    "cv2.imwrite(\"./examples/rgb_write.png\", img)"
   ]
  },
  {
   "cell_type": "markdown",
   "metadata": {},
   "source": [
    "# Завдання"
   ]
  },
  {
   "cell_type": "markdown",
   "metadata": {},
   "source": [
    "1. Зчитати та завантажити тестові чорно-біле та кольорове зображення.\n",
    "2. Відобразити чорно-біле зображення.\n",
    "3. Перетворити кольорове зображення з BGR в RGB і HSV та відобразити.\n",
    "4. Окремо відобразити колірні канали для зображень із RGB та HSV моделями.\n",
    "5. Скопіювати область інтересу чорно-білого зображення, використовуючи наступні діапазони 0:img.shape[0]/2, 0:img.shape[1]/2.\n",
    "6. Зберігти область інтересу.\n",
    "\n",
    "Додаткові завдання:\n",
    "7. Перетворити кольорове зображення з BGR в HSV за допомогю формул.\n",
    "8. Реалізувати функцію для визначення колірної відстані (Delta E76, Delta E94).\n"
   ]
  }
 ],
 "metadata": {
  "kernelspec": {
   "display_name": "Python 3",
   "language": "python",
   "name": "python3"
  },
  "language_info": {
   "codemirror_mode": {
    "name": "ipython",
    "version": 3
   },
   "file_extension": ".py",
   "mimetype": "text/x-python",
   "name": "python",
   "nbconvert_exporter": "python",
   "pygments_lexer": "ipython3",
   "version": "3.7.4"
  }
 },
 "nbformat": 4,
 "nbformat_minor": 2
}
