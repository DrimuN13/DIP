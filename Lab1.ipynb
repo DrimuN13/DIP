{
 "cells": [
  {
   "cell_type": "markdown",
   "metadata": {},
   "source": [
    "<h1> Початок роботи з бібліотекою OpenCV </h1>"
   ]
  },
  {
   "cell_type": "markdown",
   "metadata": {},
   "source": []
  },
  {
   "cell_type": "markdown",
   "metadata": {},
   "source": [
    "У даній лабораторній роботі розглядається наступне:\n",
    "1. Зчитування, запис та відображення зображень.\n",
    "2. Визначення параметрів зображення - розмір, канали, колір.\n",
    "3. Доступ до окремих пікселів та робота з групою пікселів."
   ]
  },
  {
   "cell_type": "markdown",
   "metadata": {},
   "source": [
    "<H2> Імпорт бібліотек та пакетів </H2>"
   ]
  },
  {
   "cell_type": "markdown",
   "metadata": {},
   "source": [
    "Завантажуємо бібліотеку OpenCV."
   ]
  },
  {
   "cell_type": "code",
   "execution_count": 35,
   "metadata": {},
   "outputs": [],
   "source": [
    "import cv2"
   ]
  },
  {
   "cell_type": "markdown",
   "metadata": {},
   "source": [
    "OpenCV завантажує зображення у вигляді багатомірних масивів та матриць.\n",
    "Для роботи з з багатовимірними масивами і матрицями імпортуємо бібліотеку NumPy."
   ]
  },
  {
   "cell_type": "code",
   "execution_count": 36,
   "metadata": {},
   "outputs": [],
   "source": [
    "import numpy as np"
   ]
  },
  {
   "cell_type": "markdown",
   "metadata": {},
   "source": [
    "Імпортуємо функцію pyplot з бібліотеки matplotlib для відображення зображень."
   ]
  },
  {
   "cell_type": "code",
   "execution_count": 38,
   "metadata": {},
   "outputs": [],
   "source": [
    "import matplotlib.pyplot as plt"
   ]
  },
  {
   "cell_type": "markdown",
   "metadata": {},
   "source": [
    "<h2>Read sample image</h2>\n",
    "<h2> Зчитування зображень </h2>\n",
    "\n",
    "Для зчитування зображення з диску використовується функція **imread**. Дана функція завантажує зображення із зазначеного файла та повертає зображення у вигляді масиву даних. У випадку коли файл із зображенням відсутній функція повертає **None**. Функція **imread** підтримує більшість відомих форматів зображень (PNG, BMP, JPG).\n",
    "\n",
    "<h3> Синтаксис функції </h3>\n",
    "retval = cv2.imread(filename [, flags])<br>\n",
    "Параметри:<br>\n",
    "**filename** - відносний або абсолютний шлях до файла із зображенням. Обовязковий параметр.<br>\n",
    "**flags** - даний параметр визначає формат зчитування зображення:<br>\n",
    "- cv2.IMREAD_COLOR - зчитування кольорового зображення;\n",
    "- cv2.IMREAD_GRAYSCALE - зчитування зображення у відтінках сірого;\n",
    "- cv2.IMREAD_UNCHANGED - зчитування зображення без змін при наявності альфа-каналу.\n"
   ]
  },
  {
   "cell_type": "code",
   "execution_count": 29,
   "metadata": {},
   "outputs": [],
   "source": [
    "img = cv2.imread(\"./examples/1_8.png\", cv2.IMREAD_GRAYSCALE)"
   ]
  },
  {
   "cell_type": "code",
   "execution_count": 30,
   "metadata": {},
   "outputs": [
    {
     "name": "stdout",
     "output_type": "stream",
     "text": [
      "[[  0   0   0   0   0   0   0   0   0   0   0   0   0   0   0   0]\n",
      " [  0   0   0   0   0   0   0  13  13   0   0   0   0   0   0   0]\n",
      " [  0   0   0   0   0 128 244 255 255 244 131   0   0   0   0   0]\n",
      " [  0   0   0   0  86 255 170  36  35 173 255  85   0   0   0   0]\n",
      " [  0   0   0   3 143 255   0   0   0   0 255 130   0   0   0   0]\n",
      " [  0   0   0   0 122 255   0   0   0   0 255 120   0   0   0   0]\n",
      " [  0   0   0   0  38 223 183  44  45 182 223  39   0   0   0   0]\n",
      " [  0   0   0   0   0  82 255 235 234 253  79   0   0   0   0   0]\n",
      " [  0   0   0   0  91 255  99  34  33  94 255  89   0   0   0   0]\n",
      " [  0   0   0  15 214 168   0   0   0   0 166 208  14   0   0   0]\n",
      " [  0   0   0  18 235 140   0   0   0   0 138 230  18   0   0   0]\n",
      " [  0   0   0   7 170 244  52   0   0  49 245 163   6   0   0   0]\n",
      " [  0   0   0   0  41 232 247 211 211 245 235  44   0   0   0   0]\n",
      " [  0   0   0   0   0  11  66 136 135  67  11   0   0   0   0   0]\n",
      " [  0   0   0   0   0   0   0   0   0   0   0   0   0   0   0   0]\n",
      " [  0   0   0   0   0   0   0   0   0   0   0   0   0   0   0   0]]\n"
     ]
    }
   ],
   "source": [
    "print(img)"
   ]
  },
  {
   "cell_type": "markdown",
   "metadata": {},
   "source": [
    "У даному курсі для відображення "
   ]
  },
  {
   "cell_type": "code",
   "execution_count": 34,
   "metadata": {},
   "outputs": [
    {
     "data": {
      "image/png": "[encoded data removed]",
      "text/plain": [
       "<Figure size 360x360 with 1 Axes>"
      ]
     },
     "metadata": {},
     "output_type": "display_data"
    }
   ],
   "source": [
    "plt.figure(figsize=(5, 5))\n",
    "plt.imshow(img, cmap='gray')\n",
    "plt.show();"
   ]
  },
  {
   "cell_type": "code",
   "execution_count": 25,
   "metadata": {},
   "outputs": [],
   "source": [
    "img = cv2.imread(\"./examples/rgb.png\")"
   ]
  },
  {
   "cell_type": "markdown",
   "metadata": {},
   "source": [
    "*За замовчуванням OpenCV завантажує кольорові зображення у форматі **BGR**. У даному курсі для відображення зображень використовується пакет Matplotlib.*"
   ]
  },
  {
   "cell_type": "code",
   "execution_count": 15,
   "metadata": {},
   "outputs": [],
   "source": [
    "img_rgb = cv2.cvtColor(img, cv2.COLOR_BGR2RGB)"
   ]
  },
  {
   "cell_type": "markdown",
   "metadata": {},
   "source": [
    "<h1>Plot sample image</h1>"
   ]
  },
  {
   "cell_type": "code",
   "execution_count": 16,
   "metadata": {},
   "outputs": [
    {
     "data": {
      "image/png": "[encoded data removed]",
      "text/plain": [
       "<Figure size 720x720 with 1 Axes>"
      ]
     },
     "metadata": {},
     "output_type": "display_data"
    }
   ],
   "source": [
    "plt.figure(figsize=(10, 10))\n",
    "plt.imshow(img_rgb)\n",
    "plt.show();"
   ]
  },
  {
   "cell_type": "markdown",
   "metadata": {},
   "source": [
    "<h1>Access single image pixel</h1>"
   ]
  },
  {
   "cell_type": "code",
   "execution_count": 8,
   "metadata": {},
   "outputs": [
    {
     "data": {
      "text/plain": [
       "array([  0,   0, 255], dtype=uint8)"
      ]
     },
     "execution_count": 8,
     "metadata": {},
     "output_type": "execute_result"
    }
   ],
   "source": [
    "img[127, 127]"
   ]
  },
  {
   "cell_type": "markdown",
   "metadata": {},
   "source": [
    "<h1>Get image parameters</h1>"
   ]
  },
  {
   "cell_type": "code",
   "execution_count": 9,
   "metadata": {},
   "outputs": [
    {
     "data": {
      "text/plain": [
       "(524, 512, 3)"
      ]
     },
     "execution_count": 9,
     "metadata": {},
     "output_type": "execute_result"
    }
   ],
   "source": [
    "img_rgb.shape"
   ]
  },
  {
   "cell_type": "raw",
   "metadata": {},
   "source": [
    "Here is 1104 is image height, 1060 is image width, 3 is number of color channels.\n",
    "Every color channel can be ploted separately."
   ]
  },
  {
   "cell_type": "code",
   "execution_count": 10,
   "metadata": {},
   "outputs": [
    {
     "data": {
      "image/png": "[encoded data removed]",
      "text/plain": [
       "<Figure size 720x720 with 3 Axes>"
      ]
     },
     "metadata": {},
     "output_type": "display_data"
    }
   ],
   "source": [
    "plt.figure(figsize=(10, 10))\n",
    "plt.subplot(131);\n",
    "R = np.zeros(img_rgb.shape, dtype='uint8')\n",
    "R[:, :, 0] = img_rgb[:, :, 0]\n",
    "plt.imshow(R)\n",
    "\n",
    "plt.subplot(132);\n",
    "G = np.zeros(img_rgb.shape, dtype='uint8')\n",
    "G[:, :, 1] = img_rgb[:, :, 1]\n",
    "plt.imshow(G)\n",
    "\n",
    "plt.subplot(133);\n",
    "B = np.zeros(img_rgb.shape, dtype='uint8')\n",
    "B[:, :, 2] = img_rgb[:, :, 2]\n",
    "plt.imshow(B)\n",
    "\n",
    "plt.show()"
   ]
  },
  {
   "cell_type": "markdown",
   "metadata": {},
   "source": [
    "<h1>Crop image with region with red segment</h1>"
   ]
  },
  {
   "cell_type": "code",
   "execution_count": 43,
   "metadata": {},
   "outputs": [
    {
     "data": {
      "text/plain": [
       "(150, 150, 3)"
      ]
     },
     "execution_count": 43,
     "metadata": {},
     "output_type": "execute_result"
    }
   ],
   "source": [
    "img_crop = img_rgb[0:150, 0:150]\n",
    "img_crop.shape"
   ]
  },
  {
   "cell_type": "code",
   "execution_count": 44,
   "metadata": {
    "scrolled": true
   },
   "outputs": [
    {
     "data": {
      "image/png": "[encoded data removed]",
      "text/plain": [
       "<Figure size 432x288 with 1 Axes>"
      ]
     },
     "metadata": {},
     "output_type": "display_data"
    }
   ],
   "source": [
    "plt.imshow(img_crop); plt.show();"
   ]
  },
  {
   "cell_type": "markdown",
   "metadata": {},
   "source": [
    "<h1>Saving image to file</h1>"
   ]
  },
  {
   "cell_type": "code",
   "execution_count": 45,
   "metadata": {},
   "outputs": [
    {
     "data": {
      "text/plain": [
       "True"
      ]
     },
     "execution_count": 45,
     "metadata": {},
     "output_type": "execute_result"
    }
   ],
   "source": [
    "cv2.imwrite(\"red_segment.png\", img_crop)"
   ]
  },
  {
   "cell_type": "markdown",
   "metadata": {},
   "source": [
    "<h1> Assignments </h1>"
   ]
  },
  {
   "cell_type": "markdown",
   "metadata": {},
   "source": [
    "1. Read image file from assignment directory.\n",
    "2. Plot image.\n",
    "3. Convert image to different color spaces (HSV, LAB, HLS).\n",
    "4. Plot sepeately color channels from selected color space.\n",
    "5. Estimate color for different figures.\n",
    "\n",
    "6. Convert image to different color spaces (HSV, LAB, HLS) using formulas.\n",
    "7. Color estimation (Delta E76, Delta E94)\n"
   ]
  },
  {
   "cell_type": "code",
   "execution_count": 13,
   "metadata": {},
   "outputs": [],
   "source": [
    "img = cv2.imread(\"...\")"
   ]
  }
 ],
 "metadata": {
  "kernelspec": {
   "display_name": "Python 2",
   "language": "python",
   "name": "python2"
  },
  "language_info": {
   "codemirror_mode": {
    "name": "ipython",
    "version": 2
   },
   "file_extension": ".py",
   "mimetype": "text/x-python",
   "name": "python",
   "nbconvert_exporter": "python",
   "pygments_lexer": "ipython2",
   "version": "2.7.12"
  }
 },
 "nbformat": 4,
 "nbformat_minor": 2
}
